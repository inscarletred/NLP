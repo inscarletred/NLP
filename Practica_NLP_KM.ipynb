{
  "cells": [
    {
      "cell_type": "markdown",
      "source": [
        "**Carga de datos**\n",
        "\n"
      ],
      "metadata": {
        "id": "jZQ4o9zAJO1k"
      }
    },
    {
      "cell_type": "markdown",
      "source": [],
      "metadata": {
        "id": "oll1y2ujJMJ_"
      }
    },
    {
      "cell_type": "code",
      "execution_count": 1,
      "metadata": {
        "id": "dBLN_IYkSBFt"
      },
      "outputs": [],
      "source": [
        "import os\n",
        "import json\n",
        "import gzip\n",
        "import pandas as pd\n",
        "from urllib.request import urlopen"
      ]
    },
    {
      "cell_type": "code",
      "execution_count": 2,
      "metadata": {
        "colab": {
          "base_uri": "https://localhost:8080/"
        },
        "id": "Zv4YA0VYSJtV",
        "outputId": "ff13179e-f897-4ebc-f90d-dd168c87d7e0"
      },
      "outputs": [
        {
          "output_type": "stream",
          "name": "stdout",
          "text": [
            "--2023-09-03 12:51:50--  https://datarepo.eng.ucsd.edu/mcauley_group/data/amazon_v2/categoryFiles/Magazine_Subscriptions.json.gz\n",
            "Resolving datarepo.eng.ucsd.edu (datarepo.eng.ucsd.edu)... 132.239.8.30\n",
            "Connecting to datarepo.eng.ucsd.edu (datarepo.eng.ucsd.edu)|132.239.8.30|:443... connected.\n",
            "HTTP request sent, awaiting response... 200 OK\n",
            "Length: 12875273 (12M) [application/x-gzip]\n",
            "Saving to: ‘Magazine_Subscriptions.json.gz’\n",
            "\n",
            "Magazine_Subscripti 100%[===================>]  12.28M  --.-KB/s    in 0.1s    \n",
            "\n",
            "2023-09-03 12:51:50 (92.1 MB/s) - ‘Magazine_Subscriptions.json.gz’ saved [12875273/12875273]\n",
            "\n"
          ]
        }
      ],
      "source": [
        "!wget https://datarepo.eng.ucsd.edu/mcauley_group/data/amazon_v2/categoryFiles/Magazine_Subscriptions.json.gz"
      ]
    },
    {
      "cell_type": "code",
      "execution_count": 3,
      "metadata": {
        "id": "LAPYgpb9S-ux"
      },
      "outputs": [],
      "source": [
        "### load the meta data\n",
        "\n",
        "data = []\n",
        "with gzip.open('Magazine_Subscriptions.json.gz') as f:\n",
        "  for l in f:\n",
        "        data.append(json.loads(l.strip()))"
      ]
    },
    {
      "cell_type": "code",
      "execution_count": 4,
      "metadata": {
        "colab": {
          "base_uri": "https://localhost:8080/"
        },
        "id": "knpHP22w4scK",
        "outputId": "37352e75-ad24-4d39-a4ac-7d141b2ebb67"
      },
      "outputs": [
        {
          "output_type": "stream",
          "name": "stdout",
          "text": [
            "89689\n"
          ]
        }
      ],
      "source": [
        "# convert list into pandas dataframe\n",
        "\n",
        "df = pd.DataFrame.from_dict(data)\n",
        "\n",
        "print(len(df))"
      ]
    },
    {
      "cell_type": "code",
      "execution_count": 5,
      "metadata": {
        "id": "G7uX0W0ATafB",
        "colab": {
          "base_uri": "https://localhost:8080/"
        },
        "outputId": "b58be4d1-d812-4c56-cc09-e48243540c45"
      },
      "outputs": [
        {
          "output_type": "stream",
          "name": "stdout",
          "text": [
            "['overall', 'vote', 'verified', 'reviewTime', 'reviewerID', 'asin', 'reviewerName', 'reviewText', 'summary', 'unixReviewTime', 'style', 'image']\n"
          ]
        }
      ],
      "source": [
        "column_names = df.columns.tolist()\n",
        "print(column_names)"
      ]
    },
    {
      "cell_type": "code",
      "execution_count": 6,
      "metadata": {
        "id": "3eBWqMlvUA46"
      },
      "outputs": [],
      "source": [
        "#Balance the df\n",
        "with gzip.open('Magazine_Subscriptions.json.gz', 'rb') as f:\n",
        "  df = pd.read_json(f, lines=True)\n",
        "\n",
        "filtered_df = df[df['overall'].isin([1, 2, 4, 5])]\n",
        "\n",
        "\n",
        "num_samples = 2000\n",
        "sampled_df_1 = filtered_df[filtered_df['overall'] == 1].sample(n=num_samples)\n",
        "sampled_df_2 = filtered_df[filtered_df['overall'] == 2].sample(n=num_samples)\n",
        "sampled_df_4 = filtered_df[filtered_df['overall'] == 4].sample(n=num_samples)\n",
        "sampled_df_5 = filtered_df[filtered_df['overall'] == 5].sample(n=num_samples)\n",
        "\n",
        "\n",
        "result_df = pd.concat([sampled_df_1, sampled_df_2, sampled_df_4, sampled_df_5])\n",
        "\n",
        "result_df.to_csv('sampled_data_file.csv', index=False)\n",
        "\n",
        "###### need to be working with result_df, this is why my reviews are unbalanced"
      ]
    },
    {
      "cell_type": "markdown",
      "source": [
        "# **Análisis Exploratorio**"
      ],
      "metadata": {
        "id": "LJbz8E1qJoL9"
      }
    },
    {
      "cell_type": "code",
      "execution_count": 7,
      "metadata": {
        "colab": {
          "base_uri": "https://localhost:8080/"
        },
        "id": "HrWE5P28bZDM",
        "outputId": "16b500a3-eff5-4692-df3a-1fd1c32f443c"
      },
      "outputs": [
        {
          "output_type": "stream",
          "name": "stdout",
          "text": [
            "70303    I don't mean to cast broad aspersions against ...\n",
            "52090    I am unable to download People Magazine on my ...\n",
            "42547    too complicated!!!! I am going to discontinue it.\n",
            "58157    I keep track of the expiration dates of the ma...\n",
            "32367    Ordered. Paid for. Order acknowledged. NEVER R...\n",
            "Name: reviewText, dtype: object\n"
          ]
        }
      ],
      "source": [
        "review_sample = result_df['reviewText'].head()\n",
        "print(review_sample)"
      ]
    },
    {
      "cell_type": "code",
      "execution_count": 8,
      "metadata": {
        "colab": {
          "base_uri": "https://localhost:8080/"
        },
        "id": "L5hocrt00Tf7",
        "outputId": "1fc840d3-652c-4dab-e550-255361567321"
      },
      "outputs": [
        {
          "output_type": "execute_result",
          "data": {
            "text/plain": [
              "<bound method NDFrame.head of        overall vote  verified   reviewTime      reviewerID        asin  \\\n",
              "70303        1    9     False  04 17, 2014   AH8A7ICD6EIAY  B00FDWVIHO   \n",
              "52090        1   54     False  03 20, 2014   A9O14MDWW07KZ  B000ILVRWQ   \n",
              "42547        1  NaN     False  10 27, 2014  A2GXSMJX6LIZGE  B0000AWD92   \n",
              "58157        1    2      True  01 25, 2013  A133L1CHT4TRFK  B000OPOEEE   \n",
              "32367        1   17      True  02 10, 2007  A1VIUGQLE20F2O  B00006K37V   \n",
              "...        ...  ...       ...          ...             ...         ...   \n",
              "73988        5  NaN      True   04 1, 2017   AUQ7I62QNXF28  B01CF3ECNK   \n",
              "76935        5  NaN      True  12 16, 2017  A1BVSLZM52XI3N  B000066T09   \n",
              "30795        5    2      True   11 7, 2013  A1859W4CKRNHXM  B00006J9HW   \n",
              "46248        5  NaN      True  11 22, 2015  A13E5GFPBSABC1  B000BW56WO   \n",
              "44552        5  NaN     False  04 20, 2016   AUN8EQXSJO3H3  B00079RO7G   \n",
              "\n",
              "          reviewerName                                         reviewText  \\\n",
              "70303       J. Sellers  I don't mean to cast broad aspersions against ...   \n",
              "52090  Barbara A. Roth  I am unable to download People Magazine on my ...   \n",
              "42547   Maurice Rogers  too complicated!!!! I am going to discontinue it.   \n",
              "58157               Ed  I keep track of the expiration dates of the ma...   \n",
              "32367            E. sl  Ordered. Paid for. Order acknowledged. NEVER R...   \n",
              "...                ...                                                ...   \n",
              "73988         Jennifer                                      Great recipes   \n",
              "76935        T. Conway                            Best knife publication.   \n",
              "30795          Glen D.  Fantastic magazine and highly recommend it for...   \n",
              "46248    John Houlihan  Excellent as always. Have been reading off and...   \n",
              "44552  Joyce A. Martin  As a Black female and retired Supervisor with ...   \n",
              "\n",
              "                                                 summary  unixReviewTime  \\\n",
              "70303   Unfortunately, the submissions aren't very good.      1397692800   \n",
              "52090                                               POOR      1395273600   \n",
              "42547                                           One Star      1414368000   \n",
              "58157                           Changing Expiration Date      1359072000   \n",
              "32367                                      American Girl      1171065600   \n",
              "...                                                  ...             ...   \n",
              "73988                                         Five Stars      1491004800   \n",
              "76935                                         Five Stars      1513382400   \n",
              "30795                                    Nature Magazine      1383782400   \n",
              "46248                                         Five Stars      1448150400   \n",
              "44552  As a Black female and retired Supervisor with ...      1461110400   \n",
              "\n",
              "                                style image  \n",
              "70303                             NaN   NaN  \n",
              "52090                             NaN   NaN  \n",
              "42547                             NaN   NaN  \n",
              "58157  {'Format:': ' Print Magazine'}   NaN  \n",
              "32367  {'Format:': ' Print Magazine'}   NaN  \n",
              "...                               ...   ...  \n",
              "73988                             NaN   NaN  \n",
              "76935  {'Format:': ' Kindle Edition'}   NaN  \n",
              "30795  {'Format:': ' Print Magazine'}   NaN  \n",
              "46248  {'Format:': ' Print Magazine'}   NaN  \n",
              "44552  {'Format:': ' Kindle Edition'}   NaN  \n",
              "\n",
              "[8000 rows x 12 columns]>"
            ]
          },
          "metadata": {},
          "execution_count": 8
        }
      ],
      "source": [
        "result_df.head"
      ]
    },
    {
      "cell_type": "markdown",
      "source": [
        "Pre Procesamiento\n",
        "Limpieza de datos, dropear columnas no necesarias\n",
        "Distribución de reviews por sentimiento\n",
        "para asegurarme de que este balanceado"
      ],
      "metadata": {
        "id": "JeJk3H3iKBCW"
      }
    },
    {
      "cell_type": "code",
      "execution_count": 9,
      "metadata": {
        "id": "4UQQ3-OhBZeE"
      },
      "outputs": [],
      "source": [
        "#convert to lower case\n",
        "lc_reviews = result_df['reviewText'].str.lower().str.split()"
      ]
    },
    {
      "cell_type": "code",
      "execution_count": 10,
      "metadata": {
        "colab": {
          "base_uri": "https://localhost:8080/"
        },
        "id": "-ofkfbbAG1Gc",
        "outputId": "b4375902-93f5-46cd-ade5-9d64dde63065"
      },
      "outputs": [
        {
          "output_type": "stream",
          "name": "stderr",
          "text": [
            "<ipython-input-10-acd4c7768910>:4: FutureWarning: The default value of regex will change from True to False in a future version.\n",
            "  result_df['reviewText'] = result_df['reviewText'].str.replace(f\"[{string.punctuation}]\", \"\")\n"
          ]
        }
      ],
      "source": [
        "import pandas as pd\n",
        "import string\n",
        "#remove punctuation\n",
        "result_df['reviewText'] = result_df['reviewText'].str.replace(f\"[{string.punctuation}]\", \"\")"
      ]
    },
    {
      "cell_type": "code",
      "execution_count": 11,
      "metadata": {
        "id": "9gNXv3y4Hi4e"
      },
      "outputs": [],
      "source": [
        "#drop nas for relevant columns\n",
        "result_df = result_df.dropna(subset=['reviewText', 'overall'])"
      ]
    },
    {
      "cell_type": "code",
      "execution_count": 12,
      "metadata": {
        "colab": {
          "base_uri": "https://localhost:8080/"
        },
        "id": "Wke9Mm5_HvKd",
        "outputId": "2050cdeb-e3fa-44ca-c6a1-972761485c61"
      },
      "outputs": [
        {
          "output_type": "stream",
          "name": "stdout",
          "text": [
            "['reviewText', 'overall']\n"
          ]
        }
      ],
      "source": [
        "#drop unnecessary columns\n",
        "column_keep = ['reviewText', 'overall']\n",
        "result_df = result_df[column_keep]\n",
        "#check remaining columns\n",
        "column_names = result_df.columns.tolist()\n",
        "print(column_names)"
      ]
    },
    {
      "cell_type": "markdown",
      "source": [
        "# Distribución de reviews por número de estrellas"
      ],
      "metadata": {
        "id": "BCy99lxbOd_3"
      }
    },
    {
      "cell_type": "code",
      "execution_count": 13,
      "metadata": {
        "colab": {
          "base_uri": "https://localhost:8080/",
          "height": 385
        },
        "id": "gYmX5PxTJiDa",
        "outputId": "37cb76ed-65c6-48ec-9c5a-90789ad3b3a6"
      },
      "outputs": [
        {
          "output_type": "display_data",
          "data": {
            "text/plain": [
              "<Figure size 800x400 with 1 Axes>"
            ],
            "image/png": "[encoded data removed]"
          },
          "metadata": {}
        }
      ],
      "source": [
        "#distribution of overall review score (this shows that my df is balanced)\n",
        "aux_df = pd.DataFrame(result_df['overall'].value_counts(sort=False).sort_index())\n",
        "aux_df = aux_df.plot(kind='bar', title='Overall Score (Corpus Final)', figsize=(8, 4))"
      ]
    },
    {
      "cell_type": "code",
      "execution_count": 14,
      "metadata": {
        "id": "Khg-2BuOKWJO"
      },
      "outputs": [],
      "source": [
        "#create positive and negative review classes\n",
        "def label_overall(row):\n",
        "  if int(row['overall']) < 3:\n",
        "      return 1\n",
        "  else:\n",
        "      return 0"
      ]
    },
    {
      "cell_type": "code",
      "execution_count": 15,
      "metadata": {
        "id": "AP-VJK_SLqDH"
      },
      "outputs": [],
      "source": [
        "result_df['overall_label'] = df.apply(lambda row: label_overall(row), axis=1)"
      ]
    },
    {
      "cell_type": "code",
      "execution_count": 16,
      "metadata": {
        "colab": {
          "base_uri": "https://localhost:8080/",
          "height": 206
        },
        "id": "9lKP2uQ2L3KK",
        "outputId": "175a3812-b06b-4738-bf6f-77e5c122d991"
      },
      "outputs": [
        {
          "output_type": "execute_result",
          "data": {
            "text/plain": [
              "                                              reviewText  overall  \\\n",
              "70303  I dont mean to cast broad aspersions against a...        1   \n",
              "52090  I am unable to download People Magazine on my ...        1   \n",
              "42547       too complicated I am going to discontinue it        1   \n",
              "58157  I keep track of the expiration dates of the ma...        1   \n",
              "32367  Ordered Paid for Order acknowledged NEVER RECI...        1   \n",
              "\n",
              "       overall_label  \n",
              "70303              1  \n",
              "52090              1  \n",
              "42547              1  \n",
              "58157              1  \n",
              "32367              1  "
            ],
            "text/html": [
              "\n",
              "  <div id=\"df-58fa0f13-96a4-4809-8c18-54e499d750c5\" class=\"colab-df-container\">\n",
              "    <div>\n",
              "<style scoped>\n",
              "    .dataframe tbody tr th:only-of-type {\n",
              "        vertical-align: middle;\n",
              "    }\n",
              "\n",
              "    .dataframe tbody tr th {\n",
              "        vertical-align: top;\n",
              "    }\n",
              "\n",
              "    .dataframe thead th {\n",
              "        text-align: right;\n",
              "    }\n",
              "</style>\n",
              "<table border=\"1\" class=\"dataframe\">\n",
              "  <thead>\n",
              "    <tr style=\"text-align: right;\">\n",
              "      <th></th>\n",
              "      <th>reviewText</th>\n",
              "      <th>overall</th>\n",
              "      <th>overall_label</th>\n",
              "    </tr>\n",
              "  </thead>\n",
              "  <tbody>\n",
              "    <tr>\n",
              "      <th>70303</th>\n",
              "      <td>I dont mean to cast broad aspersions against a...</td>\n",
              "      <td>1</td>\n",
              "      <td>1</td>\n",
              "    </tr>\n",
              "    <tr>\n",
              "      <th>52090</th>\n",
              "      <td>I am unable to download People Magazine on my ...</td>\n",
              "      <td>1</td>\n",
              "      <td>1</td>\n",
              "    </tr>\n",
              "    <tr>\n",
              "      <th>42547</th>\n",
              "      <td>too complicated I am going to discontinue it</td>\n",
              "      <td>1</td>\n",
              "      <td>1</td>\n",
              "    </tr>\n",
              "    <tr>\n",
              "      <th>58157</th>\n",
              "      <td>I keep track of the expiration dates of the ma...</td>\n",
              "      <td>1</td>\n",
              "      <td>1</td>\n",
              "    </tr>\n",
              "    <tr>\n",
              "      <th>32367</th>\n",
              "      <td>Ordered Paid for Order acknowledged NEVER RECI...</td>\n",
              "      <td>1</td>\n",
              "      <td>1</td>\n",
              "    </tr>\n",
              "  </tbody>\n",
              "</table>\n",
              "</div>\n",
              "    <div class=\"colab-df-buttons\">\n",
              "\n",
              "  <div class=\"colab-df-container\">\n",
              "    <button class=\"colab-df-convert\" onclick=\"convertToInteractive('df-58fa0f13-96a4-4809-8c18-54e499d750c5')\"\n",
              "            title=\"Convert this dataframe to an interactive table.\"\n",
              "            style=\"display:none;\">\n",
              "\n",
              "  <svg xmlns=\"http://www.w3.org/2000/svg\" height=\"24px\" viewBox=\"0 -960 960 960\">\n",
              "    <path d=\"M120-120v-720h720v720H120Zm60-500h600v-160H180v160Zm220 220h160v-160H400v160Zm0 220h160v-160H400v160ZM180-400h160v-160H180v160Zm440 0h160v-160H620v160ZM180-180h160v-160H180v160Zm440 0h160v-160H620v160Z\"/>\n",
              "  </svg>\n",
              "    </button>\n",
              "\n",
              "  <style>\n",
              "    .colab-df-container {\n",
              "      display:flex;\n",
              "      gap: 12px;\n",
              "    }\n",
              "\n",
              "    .colab-df-convert {\n",
              "      background-color: #E8F0FE;\n",
              "      border: none;\n",
              "      border-radius: 50%;\n",
              "      cursor: pointer;\n",
              "      display: none;\n",
              "      fill: #1967D2;\n",
              "      height: 32px;\n",
              "      padding: 0 0 0 0;\n",
              "      width: 32px;\n",
              "    }\n",
              "\n",
              "    .colab-df-convert:hover {\n",
              "      background-color: #E2EBFA;\n",
              "      box-shadow: 0px 1px 2px rgba(60, 64, 67, 0.3), 0px 1px 3px 1px rgba(60, 64, 67, 0.15);\n",
              "      fill: #174EA6;\n",
              "    }\n",
              "\n",
              "    .colab-df-buttons div {\n",
              "      margin-bottom: 4px;\n",
              "    }\n",
              "\n",
              "    [theme=dark] .colab-df-convert {\n",
              "      background-color: #3B4455;\n",
              "      fill: #D2E3FC;\n",
              "    }\n",
              "\n",
              "    [theme=dark] .colab-df-convert:hover {\n",
              "      background-color: #434B5C;\n",
              "      box-shadow: 0px 1px 3px 1px rgba(0, 0, 0, 0.15);\n",
              "      filter: drop-shadow(0px 1px 2px rgba(0, 0, 0, 0.3));\n",
              "      fill: #FFFFFF;\n",
              "    }\n",
              "  </style>\n",
              "\n",
              "    <script>\n",
              "      const buttonEl =\n",
              "        document.querySelector('#df-58fa0f13-96a4-4809-8c18-54e499d750c5 button.colab-df-convert');\n",
              "      buttonEl.style.display =\n",
              "        google.colab.kernel.accessAllowed ? 'block' : 'none';\n",
              "\n",
              "      async function convertToInteractive(key) {\n",
              "        const element = document.querySelector('#df-58fa0f13-96a4-4809-8c18-54e499d750c5');\n",
              "        const dataTable =\n",
              "          await google.colab.kernel.invokeFunction('convertToInteractive',\n",
              "                                                    [key], {});\n",
              "        if (!dataTable) return;\n",
              "\n",
              "        const docLinkHtml = 'Like what you see? Visit the ' +\n",
              "          '<a target=\"_blank\" href=https://colab.research.google.com/notebooks/data_table.ipynb>data table notebook</a>'\n",
              "          + ' to learn more about interactive tables.';\n",
              "        element.innerHTML = '';\n",
              "        dataTable['output_type'] = 'display_data';\n",
              "        await google.colab.output.renderOutput(dataTable, element);\n",
              "        const docLink = document.createElement('div');\n",
              "        docLink.innerHTML = docLinkHtml;\n",
              "        element.appendChild(docLink);\n",
              "      }\n",
              "    </script>\n",
              "  </div>\n",
              "\n",
              "\n",
              "<div id=\"df-50c0a137-254a-4618-bcf6-f2118ab343c4\">\n",
              "  <button class=\"colab-df-quickchart\" onclick=\"quickchart('df-50c0a137-254a-4618-bcf6-f2118ab343c4')\"\n",
              "            title=\"Suggest charts.\"\n",
              "            style=\"display:none;\">\n",
              "\n",
              "<svg xmlns=\"http://www.w3.org/2000/svg\" height=\"24px\"viewBox=\"0 0 24 24\"\n",
              "     width=\"24px\">\n",
              "    <g>\n",
              "        <path d=\"M19 3H5c-1.1 0-2 .9-2 2v14c0 1.1.9 2 2 2h14c1.1 0 2-.9 2-2V5c0-1.1-.9-2-2-2zM9 17H7v-7h2v7zm4 0h-2V7h2v10zm4 0h-2v-4h2v4z\"/>\n",
              "    </g>\n",
              "</svg>\n",
              "  </button>\n",
              "\n",
              "<style>\n",
              "  .colab-df-quickchart {\n",
              "      --bg-color: #E8F0FE;\n",
              "      --fill-color: #1967D2;\n",
              "      --hover-bg-color: #E2EBFA;\n",
              "      --hover-fill-color: #174EA6;\n",
              "      --disabled-fill-color: #AAA;\n",
              "      --disabled-bg-color: #DDD;\n",
              "  }\n",
              "\n",
              "  [theme=dark] .colab-df-quickchart {\n",
              "      --bg-color: #3B4455;\n",
              "      --fill-color: #D2E3FC;\n",
              "      --hover-bg-color: #434B5C;\n",
              "      --hover-fill-color: #FFFFFF;\n",
              "      --disabled-bg-color: #3B4455;\n",
              "      --disabled-fill-color: #666;\n",
              "  }\n",
              "\n",
              "  .colab-df-quickchart {\n",
              "    background-color: var(--bg-color);\n",
              "    border: none;\n",
              "    border-radius: 50%;\n",
              "    cursor: pointer;\n",
              "    display: none;\n",
              "    fill: var(--fill-color);\n",
              "    height: 32px;\n",
              "    padding: 0;\n",
              "    width: 32px;\n",
              "  }\n",
              "\n",
              "  .colab-df-quickchart:hover {\n",
              "    background-color: var(--hover-bg-color);\n",
              "    box-shadow: 0 1px 2px rgba(60, 64, 67, 0.3), 0 1px 3px 1px rgba(60, 64, 67, 0.15);\n",
              "    fill: var(--button-hover-fill-color);\n",
              "  }\n",
              "\n",
              "  .colab-df-quickchart-complete:disabled,\n",
              "  .colab-df-quickchart-complete:disabled:hover {\n",
              "    background-color: var(--disabled-bg-color);\n",
              "    fill: var(--disabled-fill-color);\n",
              "    box-shadow: none;\n",
              "  }\n",
              "\n",
              "  .colab-df-spinner {\n",
              "    border: 2px solid var(--fill-color);\n",
              "    border-color: transparent;\n",
              "    border-bottom-color: var(--fill-color);\n",
              "    animation:\n",
              "      spin 1s steps(1) infinite;\n",
              "  }\n",
              "\n",
              "  @keyframes spin {\n",
              "    0% {\n",
              "      border-color: transparent;\n",
              "      border-bottom-color: var(--fill-color);\n",
              "      border-left-color: var(--fill-color);\n",
              "    }\n",
              "    20% {\n",
              "      border-color: transparent;\n",
              "      border-left-color: var(--fill-color);\n",
              "      border-top-color: var(--fill-color);\n",
              "    }\n",
              "    30% {\n",
              "      border-color: transparent;\n",
              "      border-left-color: var(--fill-color);\n",
              "      border-top-color: var(--fill-color);\n",
              "      border-right-color: var(--fill-color);\n",
              "    }\n",
              "    40% {\n",
              "      border-color: transparent;\n",
              "      border-right-color: var(--fill-color);\n",
              "      border-top-color: var(--fill-color);\n",
              "    }\n",
              "    60% {\n",
              "      border-color: transparent;\n",
              "      border-right-color: var(--fill-color);\n",
              "    }\n",
              "    80% {\n",
              "      border-color: transparent;\n",
              "      border-right-color: var(--fill-color);\n",
              "      border-bottom-color: var(--fill-color);\n",
              "    }\n",
              "    90% {\n",
              "      border-color: transparent;\n",
              "      border-bottom-color: var(--fill-color);\n",
              "    }\n",
              "  }\n",
              "</style>\n",
              "\n",
              "  <script>\n",
              "    async function quickchart(key) {\n",
              "      const quickchartButtonEl =\n",
              "        document.querySelector('#' + key + ' button');\n",
              "      quickchartButtonEl.disabled = true;  // To prevent multiple clicks.\n",
              "      quickchartButtonEl.classList.add('colab-df-spinner');\n",
              "      try {\n",
              "        const charts = await google.colab.kernel.invokeFunction(\n",
              "            'suggestCharts', [key], {});\n",
              "      } catch (error) {\n",
              "        console.error('Error during call to suggestCharts:', error);\n",
              "      }\n",
              "      quickchartButtonEl.classList.remove('colab-df-spinner');\n",
              "      quickchartButtonEl.classList.add('colab-df-quickchart-complete');\n",
              "    }\n",
              "    (() => {\n",
              "      let quickchartButtonEl =\n",
              "        document.querySelector('#df-50c0a137-254a-4618-bcf6-f2118ab343c4 button');\n",
              "      quickchartButtonEl.style.display =\n",
              "        google.colab.kernel.accessAllowed ? 'block' : 'none';\n",
              "    })();\n",
              "  </script>\n",
              "</div>\n",
              "    </div>\n",
              "  </div>\n"
            ]
          },
          "metadata": {},
          "execution_count": 16
        }
      ],
      "source": [
        "result_df.head()"
      ]
    },
    {
      "cell_type": "code",
      "execution_count": 17,
      "metadata": {
        "colab": {
          "base_uri": "https://localhost:8080/",
          "height": 385
        },
        "id": "XeTxPM0yMMSM",
        "outputId": "542fe2ac-172f-43a5-bfe8-402ac82792ac"
      },
      "outputs": [
        {
          "output_type": "display_data",
          "data": {
            "text/plain": [
              "<Figure size 800x400 with 1 Axes>"
            ],
            "image/png": "[encoded data removed]"
          },
          "metadata": {}
        }
      ],
      "source": [
        "aux_df = pd.DataFrame(result_df['overall_label'].value_counts(sort=False).sort_index())\n",
        "aux_df = aux_df.plot(kind='bar', title='Review distribution (Corpus Final)', figsize=(8, 4))"
      ]
    },
    {
      "cell_type": "code",
      "execution_count": 18,
      "metadata": {
        "id": "_GYxbUHSNzaN"
      },
      "outputs": [],
      "source": [
        "#convert the review texts into list from corpus\n",
        "words_list = [reviewText.split() for reviewText in result_df['reviewText']]\n"
      ]
    },
    {
      "cell_type": "code",
      "execution_count": 19,
      "metadata": {
        "colab": {
          "base_uri": "https://localhost:8080/"
        },
        "id": "c38YXIQMfmrk",
        "outputId": "d7d1626d-21ef-4e16-a3ea-afbdbad33f21"
      },
      "outputs": [
        {
          "output_type": "stream",
          "name": "stdout",
          "text": [
            "the: 17316\n",
            "I: 13223\n",
            "to: 12061\n",
            "and: 11440\n",
            "a: 9881\n",
            "of: 8206\n",
            "is: 6414\n",
            "it: 6228\n",
            "magazine: 6198\n",
            "for: 5922\n"
          ]
        }
      ],
      "source": [
        "#most commmon words\n",
        "from collections import Counter\n",
        "#flatten the list of lists\n",
        "flattened_words = [word for sublist in words_list for word in sublist]\n",
        "word_freq = Counter(flattened_words)\n",
        "most_common_words = word_freq.most_common()\n",
        "top_10 = 10\n",
        "for word, freq in most_common_words[:top_10]:\n",
        "  print(f\"{word}: {freq}\")"
      ]
    },
    {
      "cell_type": "markdown",
      "source": [
        "Visualizacion de palabras más frequentes\n"
      ],
      "metadata": {
        "id": "79ePzb7eL8Ph"
      }
    },
    {
      "cell_type": "code",
      "execution_count": 20,
      "metadata": {
        "id": "KUTWE92ShGnf"
      },
      "outputs": [],
      "source": [
        "#visualizacion de palabras más frequentes\n",
        "from collections import Counter\n",
        "import matplotlib.pyplot as plt\n",
        "\n",
        "top_n = 10\n",
        "top_10 = most_common_words[:top_n]\n",
        "\n",
        "words = [w[0] for w in top_10]\n",
        "freq = [w[1] for w in top_10]"
      ]
    },
    {
      "cell_type": "code",
      "execution_count": 21,
      "metadata": {
        "id": "z3FCc25XjQIP"
      },
      "outputs": [],
      "source": [
        "freq, words = zip(*sorted(zip(freq, words)))"
      ]
    },
    {
      "cell_type": "code",
      "execution_count": 22,
      "metadata": {
        "colab": {
          "base_uri": "https://localhost:8080/",
          "height": 430
        },
        "id": "1ntUJxoIhX_r",
        "outputId": "d3be6ecc-7b1b-4181-bf7e-51a44a9be13a"
      },
      "outputs": [
        {
          "output_type": "display_data",
          "data": {
            "text/plain": [
              "<Figure size 640x480 with 1 Axes>"
            ],
            "image/png": "[encoded data removed]"
          },
          "metadata": {}
        }
      ],
      "source": [
        "plt.barh(words, freq)\n",
        "plt.show()"
      ]
    },
    {
      "cell_type": "markdown",
      "source": [
        "N-grams más frecuentes"
      ],
      "metadata": {
        "id": "yNFOZzgeMeCk"
      }
    },
    {
      "cell_type": "code",
      "execution_count": 23,
      "metadata": {
        "id": "Xw4KHNymM-m1"
      },
      "outputs": [],
      "source": [
        "#most common n-grams (2 and 3 word pairs)\n",
        "from nltk import ngrams\n",
        "from nltk.probability import FreqDist\n",
        "\n",
        "bigrams_two = [list(ngrams(words, 2)) for words in words_list]\n",
        "trigrams_three = [list(ngrams(words, 3)) for words in words_list]\n"
      ]
    },
    {
      "cell_type": "code",
      "execution_count": 24,
      "metadata": {
        "colab": {
          "base_uri": "https://localhost:8080/"
        },
        "id": "nhjvOU7cQGsk",
        "outputId": "e7ac7ee4-8ebd-4f8c-c716-cc2c7a6936d5"
      },
      "outputs": [
        {
          "output_type": "stream",
          "name": "stdout",
          "text": [
            "Most common bigrams: [(('of', 'the'), 1929), (('this', 'magazine'), 1583), (('the', 'magazine'), 1410), (('in', 'the'), 1156), (('I', 'have'), 1122), (('to', 'be'), 868), (('is', 'a'), 832), (('for', 'the'), 791), (('to', 'the'), 742), (('on', 'the'), 741)]\n",
            "Most common trigrams: [(('a', 'lot', 'of'), 234), (('of', 'the', 'magazine'), 227), (('I', 'have', 'been'), 184), (('used', 'to', 'be'), 151), (('This', 'magazine', 'is'), 151), (('this', 'magazine', 'is'), 142), (('This', 'is', 'a'), 142), (('some', 'of', 'the'), 133), (('the', 'magazine', 'is'), 131), (('to', 'be', 'a'), 125)]\n"
          ]
        }
      ],
      "source": [
        "#conjuntos de palabras más comunes\n",
        "from nltk.probability import FreqDist\n",
        "\n",
        "# Flatten the lists of n-grams\n",
        "flat_bigrams = [bigram for sublist in bigrams_two for bigram in sublist]\n",
        "flat_trigrams = [trigram for sublist in trigrams_three for trigram in sublist]\n",
        "\n",
        "# Calculate frequency distributions\n",
        "bigrams_freq = FreqDist(flat_bigrams)\n",
        "trigrams_freq = FreqDist(flat_trigrams)\n",
        "\n",
        "print(\"Most common bigrams:\", bigrams_freq.most_common(10))\n",
        "print(\"Most common trigrams:\", trigrams_freq.most_common(10))"
      ]
    },
    {
      "cell_type": "code",
      "execution_count": 25,
      "metadata": {
        "colab": {
          "base_uri": "https://localhost:8080/"
        },
        "id": "uYke0eAlHI3P",
        "outputId": "1a8b1baa-6521-48bf-eefb-3fae83e951a4"
      },
      "outputs": [
        {
          "output_type": "stream",
          "name": "stderr",
          "text": [
            "IOPub data rate exceeded.\n",
            "The notebook server will temporarily stop sending output\n",
            "to the client in order to avoid crashing it.\n",
            "To change this limit, set the config variable\n",
            "`--NotebookApp.iopub_data_rate_limit`.\n",
            "\n",
            "Current values:\n",
            "NotebookApp.iopub_data_rate_limit=1000000.0 (bytes/sec)\n",
            "NotebookApp.rate_limit_window=3.0 (secs)\n",
            "\n"
          ]
        }
      ],
      "source": [
        "print(words_list)\n",
        "print(most_common_words)"
      ]
    },
    {
      "cell_type": "code",
      "execution_count": 26,
      "metadata": {
        "id": "qxPfY_JRQhO8"
      },
      "outputs": [],
      "source": [
        "import unicodedata\n",
        "import re\n",
        "def sentence_normalization(sentence):\n",
        "    sentence = unicodedata.normalize('NFKD', sentence).lower().encode('ascii', errors='ignore').decode('utf-8')\n",
        "    sentence = re.sub(' +', ' ', ' '.join([word if word.isalpha() else '' for word in sentence.split()])).strip()\n",
        "    return sentence"
      ]
    },
    {
      "cell_type": "code",
      "execution_count": 27,
      "metadata": {
        "id": "SyyLCwPsQl1z"
      },
      "outputs": [],
      "source": [
        "def remove_stopwords(sentence, sw_list):\n",
        "    sentence = ' '.join([word for word in sentence.split() if word not in sw_list])\n",
        "    return sentence"
      ]
    },
    {
      "cell_type": "code",
      "execution_count": 28,
      "metadata": {
        "colab": {
          "base_uri": "https://localhost:8080/"
        },
        "id": "S40Opf0-QzT-",
        "outputId": "598534c5-b8c4-451b-833e-f2e5e34f74cc"
      },
      "outputs": [
        {
          "output_type": "stream",
          "name": "stdout",
          "text": [
            "Collecting stop-words\n",
            "  Downloading stop-words-2018.7.23.tar.gz (31 kB)\n",
            "  Preparing metadata (setup.py) ... \u001b[?25l\u001b[?25hdone\n",
            "Building wheels for collected packages: stop-words\n",
            "  Building wheel for stop-words (setup.py) ... \u001b[?25l\u001b[?25hdone\n",
            "  Created wheel for stop-words: filename=stop_words-2018.7.23-py3-none-any.whl size=32896 sha256=e3ba45c719014f3b086feabfa9acd2981f5b33e635ae6c59d7fffcc8493836f2\n",
            "  Stored in directory: /root/.cache/pip/wheels/d0/1a/23/f12552a50cb09bcc1694a5ebb6c2cd5f2a0311de2b8c3d9a89\n",
            "Successfully built stop-words\n",
            "Installing collected packages: stop-words\n",
            "Successfully installed stop-words-2018.7.23\n"
          ]
        }
      ],
      "source": [
        "!pip install stop-words\n",
        "from stop_words import get_stop_words\n",
        "sw_list = get_stop_words('en')\n"
      ]
    },
    {
      "cell_type": "code",
      "execution_count": 29,
      "metadata": {
        "id": "X_iYsRu1Q_Fu"
      },
      "outputs": [],
      "source": [
        "def process_reviews(reviews, sw_list):\n",
        "    processed_sentences = []\n",
        "    for sent in result_df['reviewText']:\n",
        "        if not sent != sent:  # check if sent is not nan\n",
        "            sent = sentence_normalization(sent)\n",
        "            sent = remove_stopwords(sent, sw_list)\n",
        "            processed_sentences.append(sent)\n",
        "        else:\n",
        "            processed_sentences.append('None')\n",
        "    return processed_sentences"
      ]
    },
    {
      "cell_type": "code",
      "execution_count": 30,
      "metadata": {
        "id": "_qwpgL3CRYgg"
      },
      "outputs": [],
      "source": [
        "processed_reviews = process_reviews(result_df['reviewText'], sw_list)"
      ]
    },
    {
      "cell_type": "code",
      "execution_count": 32,
      "metadata": {
        "colab": {
          "base_uri": "https://localhost:8080/"
        },
        "id": "mRoLPUJBTG-3",
        "outputId": "bb229d70-70ac-4e88-ab48-0ae4c55397a9"
      },
      "outputs": [
        {
          "output_type": "stream",
          "name": "stdout",
          "text": [
            "Review original: I dont mean to cast broad aspersions against aspiring writers I admire them for working hard at their craft and for finding an avenue by which they can share their work with the world\n",
            "\n",
            "Unfortunately on the whole the submissions arent particularly compelling  After receiving about four issues I noticed that the quality of narrative in each issue was at the level of a welledited undergraduate creative writing piece in that each seemed veryI dont knowsurfacey  If youre interested in suburban stories with bathetic resolutions or just want to be supportive of new writers by all means subscribe but this stuff aint for me\n",
            "Review procesada: dont mean cast broad aspersions aspiring writers admire working hard craft finding avenue can share work world unfortunately whole submissions arent particularly compelling receiving four issues noticed quality narrative issue level welledited undergraduate creative writing piece seemed veryi dont knowsurfacey youre interested suburban stories bathetic resolutions just want supportive new writers means subscribe stuff aint\n"
          ]
        }
      ],
      "source": [
        "print('Review original: {}'.format(result_df['reviewText'].values[0]))\n",
        "print('Review procesada: {}'.format(processed_reviews[0]))"
      ]
    },
    {
      "cell_type": "code",
      "execution_count": 33,
      "metadata": {
        "id": "7H8AJB_WIlQe"
      },
      "outputs": [],
      "source": [
        "result_df.loc[:, 'processedReview'] = processed_reviews"
      ]
    },
    {
      "cell_type": "code",
      "execution_count": 34,
      "metadata": {
        "id": "TYGDQa64Ir_p"
      },
      "outputs": [],
      "source": [
        "import random\n",
        "import numpy as np\n",
        "\n",
        "result_df['processedReview'] = result_df['processedReview'].replace('', np.nan)\n",
        "result_df = result_df.dropna(subset=['processedReview'])"
      ]
    },
    {
      "cell_type": "markdown",
      "source": [
        "Word Cloud\n",
        "(ahora con las most common words, pero antes de quitar las stop words)"
      ],
      "metadata": {
        "id": "Bp0M_fqsNrVv"
      }
    },
    {
      "cell_type": "code",
      "execution_count": 35,
      "metadata": {
        "id": "-dIveBhz_FvA"
      },
      "outputs": [],
      "source": [
        "#Word cloud\n",
        "import matplotlib.pyplot as plt\n",
        "from wordcloud import WordCloud"
      ]
    },
    {
      "cell_type": "code",
      "execution_count": 36,
      "metadata": {
        "id": "uLAxK13z_F4P"
      },
      "outputs": [],
      "source": [
        "top_n = 10\n",
        "top_10 = most_common_words[:top_n]\n",
        "words_list = [word[0] for word in top_10]"
      ]
    },
    {
      "cell_type": "code",
      "execution_count": 37,
      "metadata": {
        "id": "vfUxKksH_GAR"
      },
      "outputs": [],
      "source": [
        "def plot_word_cloud(words_list):\n",
        "    wordcloud = WordCloud(max_font_size=50, max_words=10, background_color=\"white\").generate(' '.join(words_list))\n",
        "    plt.figure(figsize=(12,6))\n",
        "    plt.imshow(wordcloud, interpolation='bilinear')\n",
        "    plt.axis('off')\n",
        "    plt.show()"
      ]
    },
    {
      "cell_type": "code",
      "execution_count": null,
      "metadata": {
        "id": "6d8pJ53IB6_U"
      },
      "outputs": [],
      "source": []
    },
    {
      "cell_type": "code",
      "execution_count": 38,
      "metadata": {
        "colab": {
          "base_uri": "https://localhost:8080/",
          "height": 422
        },
        "id": "GDhgetpV_e7E",
        "outputId": "6953cc01-f3c3-4b90-ec52-0be3b3788b5a"
      },
      "outputs": [
        {
          "output_type": "display_data",
          "data": {
            "text/plain": [
              "<Figure size 1000x500 with 1 Axes>"
            ],
            "image/png": "[encoded data removed]"
          },
          "metadata": {}
        }
      ],
      "source": [
        "words_list = ['the', 'I', 'to', 'and', 'a', 'of', 'magazine', 'is', 'it', 'for']\n",
        "#convert list into string\n",
        "words_text = ' '.join(words_list)\n",
        "word_freq = {word: words_list.count(word) for word in words_list}\n",
        "wordcloud = WordCloud(width=800, height=400, background_color='white').generate_from_frequencies(word_freq)\n",
        "plt.figure(figsize=(10, 5))\n",
        "plt.imshow(wordcloud, interpolation='bilinear')\n",
        "plt.axis('off')\n",
        "plt.show()\n",
        "#plot_word_cloud(words_list)"
      ]
    },
    {
      "cell_type": "code",
      "execution_count": 39,
      "metadata": {
        "id": "BOY1Tai6RN6X"
      },
      "outputs": [],
      "source": [
        "#tokenize df\n",
        "import nltk\n",
        "from nltk.tokenize import word_tokenize\n"
      ]
    },
    {
      "cell_type": "code",
      "execution_count": 40,
      "metadata": {
        "colab": {
          "base_uri": "https://localhost:8080/"
        },
        "id": "UMnKmbahROcF",
        "outputId": "6112308d-df9b-45dd-c661-441fa6764c33"
      },
      "outputs": [
        {
          "output_type": "stream",
          "name": "stderr",
          "text": [
            "[nltk_data] Downloading package punkt to /root/nltk_data...\n",
            "[nltk_data]   Unzipping tokenizers/punkt.zip.\n"
          ]
        },
        {
          "output_type": "stream",
          "name": "stdout",
          "text": [
            "['dont', 'mean', 'cast', 'broad', 'aspersions', 'aspiring', 'writers', 'admire', 'working', 'hard', 'craft', 'finding', 'avenue', 'can', 'share', 'work', 'world', 'unfortunately', 'whole', 'submissions', 'arent', 'particularly', 'compelling', 'receiving', 'four', 'issues', 'noticed', 'quality', 'narrative', 'issue', 'level', 'welledited', 'undergraduate', 'creative', 'writing', 'piece', 'seemed', 'veryi', 'dont', 'knowsurfacey', 'youre', 'interested', 'suburban', 'stories', 'bathetic', 'resolutions', 'just', 'want', 'supportive', 'new', 'writers', 'means', 'subscribe', 'stuff', 'aint']\n",
            "['unable', 'download', 'people', 'magazine', 'kindle', 'firespoke', 'long', 'time', 'last', 'saturday', 'representative', 'south', 'africa', 'unable', 'resolve', 'problem', 'turned', 'technicians', 'received', 'call', 'back', 'yet', 'anyone', 'resolving', 'problem', 'best', 'cancel', 'subscription', 'just', 'buy', 'newstand']\n",
            "['complicated', 'going', 'discontinue']\n",
            "['keep', 'track', 'expiration', 'dates', 'magazines', 'subscribe', 'know', 'ones', 'coming', 'renewal', 'notice', 'expiration', 'date', 'seemed', 'changed', 'month', 'earlier', 'emailed', 'response', 'added', 'holiday', 'issue', 'checked', 'correct', 'published', 'dec', 'issue', 'holiday', 'issue', 'suspect', 'decided', 'put', 'additional', 'issue', 'lot', 'advertisers', 'holiday', 'season', 'however', 'want', 'pay', 'issue', 'full', 'ads', 'order', 'monthly', 'magazine', 'want', 'one', 'issue', 'month', 'publisher', 'decided', 'publish', 'two', 'issues', 'december', 'change', 'expiration', 'date', 'suspect', 'much', 'can', 'done', 'except', 'renew']\n",
            "['ordered', 'paid', 'order', 'acknowledged', 'never', 'recieved', 'issues', 'wrote', 'inquiry', 'never', 'got', 'answer']\n",
            "['discover', 'watered', 'popular', 'science', 'also', 'really', 'bad', 'publication', 'totally', 'lacking', 'scientific', 'integrity', 'nothing', 'corporate', 'backed', 'disinformation', 'mislead', 'uneducated']\n",
            "['im', 'catholic']\n",
            "['ive', 'yet', 'receive', 'hard', 'copy', 'digital', 'access', 'copy', 'doesnt', 'include', 'iphones', 'access']\n",
            "['amazon', 'identify', 'can', 'get', 'magazines', 'kindle', 'cant', 'least', 'going', 'deliver', 'will', 'get', 'lite', 'version', 'magazine', 'just', 'portion', 'full', 'printed', 'version', 'several', 'things', 'will', 'left', 'really', 'will', 'getting', 'magazine', 'kindle', 'version', 'magazine', 'sections', 'left', 'articles', 'left', 'pictures', 'images', 'left', 'fortunately', 'trial', 'version', 'can', 'see', 'inadequacies', 'cancel']\n",
            "['worst', 'magazine', 'view', 'kindle', 'downloaded', 'several', 'pleased', 'waste', 'time', 'none', 'pages', 'wanted', 'load']\n"
          ]
        }
      ],
      "source": [
        "nltk.download('punkt')\n",
        "result_df['tokenized_text'] = result_df['processedReview'].apply(word_tokenize)\n",
        "for tokens in result_df['tokenized_text'][:10]:\n",
        "  print(tokens)"
      ]
    },
    {
      "cell_type": "code",
      "execution_count": 41,
      "metadata": {
        "colab": {
          "base_uri": "https://localhost:8080/"
        },
        "id": "sgPtum_iZ6Zr",
        "outputId": "c2da43d1-448d-4261-fb0b-789d8d2056fe"
      },
      "outputs": [
        {
          "output_type": "stream",
          "name": "stdout",
          "text": [
            "magazine: 6525\n",
            "subscription: 2066\n",
            "like: 1916\n",
            "articles: 1698\n",
            "issue: 1667\n",
            "one: 1561\n",
            "great: 1501\n",
            "read: 1499\n",
            "good: 1466\n",
            "just: 1422\n"
          ]
        }
      ],
      "source": [
        "#recount the most common words after removing the stop words\n",
        "from collections import Counter\n",
        "word_freq = Counter(result_df['tokenized_text'].sum())\n",
        "n_most_common = 10\n",
        "most_common_words = word_freq.most_common(n_most_common)\n",
        "\n",
        "for word, freq in most_common_words:\n",
        "  print(f\"{word}: {freq}\")\n"
      ]
    },
    {
      "cell_type": "code",
      "execution_count": 42,
      "metadata": {
        "colab": {
          "base_uri": "https://localhost:8080/"
        },
        "id": "GXdhWqu1bfQj",
        "outputId": "97a4b7dd-31c2-4dc1-a706-3a9556d48dd6"
      },
      "outputs": [
        {
          "output_type": "stream",
          "name": "stdout",
          "text": [
            "['magazine', 'subscription', 'like', 'articles', 'issue', 'one', 'great', 'read', 'good', 'just']\n"
          ]
        }
      ],
      "source": [
        "most_common_words = [word for word, _ in most_common_words]\n",
        "print(most_common_words)"
      ]
    },
    {
      "cell_type": "code",
      "source": [
        "words_list = most_common_words\n",
        "#convert list into string\n",
        "words_text = ' '.join(words_list)\n",
        "word_freq = {word: words_list.count(word) for word in words_list}\n",
        "wordcloud = WordCloud(width=800, height=400, background_color='white').generate_from_frequencies(word_freq)\n",
        "plt.figure(figsize=(10, 5))\n",
        "plt.imshow(wordcloud, interpolation='bilinear')\n",
        "plt.axis('off')\n",
        "plt.show()\n",
        "#plot_word_cloud(words_list)"
      ],
      "metadata": {
        "colab": {
          "base_uri": "https://localhost:8080/",
          "height": 422
        },
        "id": "v7hBLPI_f6ee",
        "outputId": "4ea5e18f-0a3f-4e64-c7f7-a0cbb1f676af"
      },
      "execution_count": 91,
      "outputs": [
        {
          "output_type": "display_data",
          "data": {
            "text/plain": [
              "<Figure size 1000x500 with 1 Axes>"
            ],
            "image/png": "[encoded data removed]"
          },
          "metadata": {}
        }
      ]
    },
    {
      "cell_type": "code",
      "execution_count": 43,
      "metadata": {
        "colab": {
          "base_uri": "https://localhost:8080/"
        },
        "id": "pZ8a09HRnxdG",
        "outputId": "2b049201-015b-4453-9296-1bd34e26cafd"
      },
      "outputs": [
        {
          "output_type": "stream",
          "name": "stdout",
          "text": [
            "['magazine', 'subscription', 'like', 'articles', 'issue']\n"
          ]
        }
      ],
      "source": [
        "top_5 = most_common_words[:5]\n",
        "print(top_5)"
      ]
    },
    {
      "cell_type": "code",
      "source": [
        "import nltk\n",
        "from nltk.tokenize import word_tokenize\n",
        "from nltk.corpus import words\n",
        "from nltk.stem import WordNetLemmatizer\n",
        "\n",
        "# Download necessary resources\n",
        "nltk.download('punkt')\n",
        "nltk.download('words')\n",
        "nltk.download('wordnet')\n",
        "\n",
        "# Initialize lemmatizer and word set\n",
        "lemmatizer = WordNetLemmatizer()\n",
        "word_set = set(words.words())\n",
        "\n",
        "def preprocess_text(text):\n",
        "    # Tokenize text\n",
        "    tokens = word_tokenize(text)\n",
        "\n",
        "    # Remove stopwords and punctuation\n",
        "    filtered_tokens = [token for token in tokens if token.lower() not in sw_list and token.isalpha()]\n",
        "\n",
        "    # Lemmatize tokens\n",
        "    lemmatized_tokens = [lemmatizer.lemmatize(token, pos='v') for token in filtered_tokens]\n",
        "\n",
        "    # Filter out short or non-English words\n",
        "    cleaned_tokens = [token for token in lemmatized_tokens if len(token) > 1 and token in word_set]\n",
        "\n",
        "    return cleaned_tokens\n",
        "\n",
        "# Apply preprocessing\n",
        "result_df['processedReview'] = result_df['reviewText'].apply(preprocess_text)\n"
      ],
      "metadata": {
        "colab": {
          "base_uri": "https://localhost:8080/"
        },
        "id": "D4OmHtltSeL_",
        "outputId": "04a56b5c-855f-44f6-837a-4e6a72455c6b"
      },
      "execution_count": 44,
      "outputs": [
        {
          "output_type": "stream",
          "name": "stderr",
          "text": [
            "[nltk_data] Downloading package punkt to /root/nltk_data...\n",
            "[nltk_data]   Package punkt is already up-to-date!\n",
            "[nltk_data] Downloading package words to /root/nltk_data...\n",
            "[nltk_data]   Unzipping corpora/words.zip.\n",
            "[nltk_data] Downloading package wordnet to /root/nltk_data...\n"
          ]
        }
      ]
    },
    {
      "cell_type": "markdown",
      "metadata": {
        "id": "r0HGtTtmQWGU"
      },
      "source": [
        "Modelado\n",
        "\n",
        "Separamos el conjunto de train y test texto"
      ]
    },
    {
      "cell_type": "code",
      "execution_count": 45,
      "metadata": {
        "id": "hGUWJM0LIE70"
      },
      "outputs": [],
      "source": [
        "from sklearn.model_selection import train_test_split\n",
        "from sklearn.pipeline import Pipeline\n",
        "from sklearn.feature_extraction.text import CountVectorizer, TfidfVectorizer\n",
        "from sklearn.feature_selection import chi2\n",
        "from sklearn.linear_model import LogisticRegression\n",
        "from sklearn.metrics import accuracy_score, confusion_matrix, classification_report, roc_curve, precision_recall_curve\n",
        "\n"
      ]
    },
    {
      "cell_type": "code",
      "execution_count": 46,
      "metadata": {
        "id": "6LGyaJvnOry9"
      },
      "outputs": [],
      "source": [
        "X_train, X_test, y_train, y_test = train_test_split(\n",
        "    result_df['processedReview'],\n",
        "    result_df['overall_label'],\n",
        "    train_size=0.75,\n",
        "    test_size=0.25,\n",
        "    random_state=42,\n",
        "    shuffle=True\n",
        ")"
      ]
    },
    {
      "cell_type": "code",
      "execution_count": 47,
      "metadata": {
        "colab": {
          "base_uri": "https://localhost:8080/"
        },
        "id": "F74EZRhsD2NG",
        "outputId": "0fa018d2-20e6-40d8-9aa7-be6807cef34f"
      },
      "outputs": [
        {
          "output_type": "execute_result",
          "data": {
            "text/plain": [
              "25       [build, computer, many, people, build, compute...\n",
              "37948    [read, find, enjoyable, size, car, read, wait,...\n",
              "84808    [cost, year, expensive, paper, come, time, yea...\n",
              "87107    [good, magazine, problem, print, small, ink, l...\n",
              "69308     [buy, daughter, love, magazine, will, keep, get]\n",
              "8896     [many, one, single, finish, product, point, ma...\n",
              "61088    [like, magazine, think, helpful, job, financia...\n",
              "4790     [felt, magazine, focus, much, advertise, work,...\n",
              "85844                                                   []\n",
              "500      [advice, good, cancel, due, conflict, opinion,...\n",
              "Name: processedReview, dtype: object"
            ]
          },
          "metadata": {},
          "execution_count": 47
        }
      ],
      "source": [
        "#checking to see if the split was done correctly\n",
        "X_train.iloc[:10]"
      ]
    },
    {
      "cell_type": "code",
      "execution_count": 48,
      "metadata": {
        "colab": {
          "base_uri": "https://localhost:8080/"
        },
        "id": "YYkDjtoQD2Vg",
        "outputId": "106d05dc-e2d1-4ec7-ef89-994a1e9b5113"
      },
      "outputs": [
        {
          "output_type": "execute_result",
          "data": {
            "text/plain": [
              "25       1\n",
              "37948    0\n",
              "84808    1\n",
              "87107    0\n",
              "69308    0\n",
              "8896     1\n",
              "61088    1\n",
              "4790     1\n",
              "85844    0\n",
              "500      1\n",
              "Name: overall_label, dtype: int64"
            ]
          },
          "metadata": {},
          "execution_count": 48
        }
      ],
      "source": [
        "y_train.iloc[:10]"
      ]
    },
    {
      "cell_type": "markdown",
      "metadata": {
        "id": "8YLDL8AaTdhS"
      },
      "source": [
        "**Feature Extraction**\n",
        "\n",
        "Create and train a Word2Vec model. Then, plot the top 5 most common words and their 10 most similar words.\n",
        "\n",
        "\n",
        "No me ha quedado tan bien como el ejemplo que nos hiciste en clase, pero me ha costado conseguirlo. Luego lo reviso para ver si soy capaz de arreglarlo!"
      ]
    },
    {
      "cell_type": "code",
      "execution_count": 49,
      "metadata": {
        "id": "hk0xCTXQD2dx"
      },
      "outputs": [],
      "source": [
        "from gensim.models import Word2Vec\n",
        "\n",
        "# Convert DataFrame column to a list of lists\n",
        "sentences = result_df['tokenized_text'].tolist()\n",
        "\n",
        "# Create and train the Word2Vec model\n",
        "model = Word2Vec(sentences, vector_size=100, window=5, min_count=1, sg=0)\n"
      ]
    },
    {
      "cell_type": "code",
      "execution_count": 50,
      "metadata": {
        "id": "CVHctfTlD2lL"
      },
      "outputs": [],
      "source": [
        "from sklearn.manifold import TSNE\n",
        "import matplotlib.pyplot as plt\n",
        "%matplotlib inline\n",
        "\n",
        "#create a dictionary for similar words\n",
        "similar_words ={}\n",
        "for word in top_5:\n",
        "  similar_words[word] = [similar_word for similar_word, _ in model.wv.most_similar(word, topn=10)]\n"
      ]
    },
    {
      "cell_type": "code",
      "execution_count": 51,
      "metadata": {
        "id": "w1y9OT8TD2vw"
      },
      "outputs": [],
      "source": [
        "#extract embeddings for most common wordss and their similar words\n",
        "word_embeddings = [model.wv[word] for word in top_5 + sum(similar_words.values(), [])]"
      ]
    },
    {
      "cell_type": "code",
      "execution_count": 52,
      "metadata": {
        "id": "_7FpB923eKyS"
      },
      "outputs": [],
      "source": [
        "#convert to array\n",
        "word_embeddings_array = np.array(word_embeddings)\n"
      ]
    },
    {
      "cell_type": "code",
      "execution_count": 53,
      "metadata": {
        "id": "iIDSrtcjdVNw"
      },
      "outputs": [],
      "source": [
        "#reduce to 2D with t-sne\n",
        "tsne = TSNE(n_components=2, random_state=42)\n",
        "tsne_results = tsne.fit_transform(word_embeddings_array)"
      ]
    },
    {
      "cell_type": "code",
      "execution_count": 54,
      "metadata": {
        "colab": {
          "base_uri": "https://localhost:8080/",
          "height": 834
        },
        "id": "ptNgdOIle0cU",
        "outputId": "3865823e-65ac-4432-df40-24c5935642b1"
      },
      "outputs": [
        {
          "output_type": "display_data",
          "data": {
            "text/plain": [
              "<Figure size 1600x900 with 1 Axes>"
            ],
            "image/png": "[encoded data removed]"
          },
          "metadata": {}
        }
      ],
      "source": [
        "import matplotlib.pyplot as plt\n",
        "import matplotlib.cm as cm\n",
        "import numpy as np\n",
        "\n",
        "def tsne_plot_similar_words(labels, embeddings, similar_words, a=0.7):\n",
        "    plt.figure(figsize=(16, 9))\n",
        "    colors = cm.rainbow(np.linspace(0, 1, len(labels)))\n",
        "\n",
        "    for label, coords, words, color in zip(labels, embeddings, similar_words.values(), colors):\n",
        "        x, y = coords\n",
        "        plt.scatter(x, y, c=[color], alpha=a, label=label)\n",
        "\n",
        "        for i, word in enumerate(words):\n",
        "            annotation_offset = (i + 1) * 10  # Increase this value to space out the annotations more\n",
        "            plt.annotate(word, alpha=0.5, xy=(x, y), xytext=(5, 2 + annotation_offset),\n",
        "                     textcoords='offset points', ha='right', va='bottom', size=8)\n",
        "\n",
        "    plt.legend(loc=4)\n",
        "    plt.grid(True)\n",
        "    plt.title('t-SNE Visualization of Word Embeddings and Similar Words')\n",
        "    plt.show()\n",
        "\n",
        "\n",
        "tsne_plot_similar_words(top_5, tsne_results, similar_words)\n"
      ]
    },
    {
      "cell_type": "code",
      "execution_count": null,
      "metadata": {
        "id": "2G8MP0JDe0kE"
      },
      "outputs": [],
      "source": []
    },
    {
      "cell_type": "markdown",
      "metadata": {
        "id": "La_8FKFvuFoP"
      },
      "source": [
        "### **TF-IDF Matrix**"
      ]
    },
    {
      "cell_type": "code",
      "execution_count": 55,
      "metadata": {
        "id": "2XhGvhZRu2V8"
      },
      "outputs": [],
      "source": [
        "from sklearn.feature_extraction.text import TfidfVectorizer\n"
      ]
    },
    {
      "cell_type": "code",
      "source": [
        "from sklearn.feature_extraction.text import TfidfVectorizer\n",
        "\n",
        "# Join tokenized lists back into strings DOUBLE CHECK\n",
        "X_train_strings = [' '.join(tokens) for tokens in X_train]\n",
        "X_test_strings = [' '.join(tokens) for tokens in X_test]\n",
        "\n",
        "# Initialize TF-IDF vectorizer\n",
        "tfidf_vectorizer = TfidfVectorizer()\n",
        "\n",
        "# Transform the training and test data\n",
        "tfidf_matrix_x_train = tfidf_vectorizer.fit_transform(X_train_strings)\n",
        "tfidf_matrix_x_test = tfidf_vectorizer.transform(X_test_strings)\n"
      ],
      "metadata": {
        "id": "4_xR_T3pThbS"
      },
      "execution_count": 56,
      "outputs": []
    },
    {
      "cell_type": "code",
      "source": [
        "#get feature names for later analysis\n",
        "feature_names_train_test = tfidf_vectorizer.get_feature_names_out()\n"
      ],
      "metadata": {
        "id": "sVAmDFz5JrBp"
      },
      "execution_count": 57,
      "outputs": []
    },
    {
      "cell_type": "code",
      "source": [
        "from sklearn.feature_extraction.text import TfidfVectorizer\n",
        "import pandas as pd\n",
        "\n",
        "\n",
        "corpus_tokenized = result_df['tokenized_text']\n",
        "\n",
        "# Convert list of tokenized sentences to list of strings\n",
        "corpus_strings = [' '.join(tokens) for tokens in corpus_tokenized]\n",
        "\n",
        "# Create a TF-IDF vectorizer\n",
        "tfidf_vectorizer = TfidfVectorizer()\n",
        "tfidf_matrix = tfidf_vectorizer.fit_transform(corpus_strings)\n",
        "\n",
        "# Get feature names and IDF scores\n",
        "feature_names = tfidf_vectorizer.get_feature_names_out()\n",
        "idf_scores = tfidf_vectorizer.idf_\n",
        "\n",
        "# Create a DataFrame with feature names and IDF scores\n",
        "idf_df = pd.DataFrame({'Word': feature_names, 'IDF': idf_scores})\n",
        "\n",
        "# Sort the DataFrame by IDF scores\n",
        "idf_df = idf_df.sort_values(by='IDF', ascending=False)\n",
        "\n",
        "n_words = 10\n",
        "print(f\"Top {n_words} words with highest TF-IDF in the review:\")\n",
        "print(idf_df.head(n_words))\n",
        "\n",
        "print(f\"\\nTop {n_words} words with lowest TF-IDF in the review:\")\n",
        "print(idf_df.tail(n_words))\n"
      ],
      "metadata": {
        "colab": {
          "base_uri": "https://localhost:8080/"
        },
        "id": "07mG1AwOHgOQ",
        "outputId": "9725fe98-3a05-441f-e952-3136ec7ab8dd"
      },
      "execution_count": 58,
      "outputs": [
        {
          "output_type": "stream",
          "name": "stdout",
          "text": [
            "Top 10 words with highest TF-IDF in the review:\n",
            "               Word       IDF\n",
            "0              aaah  9.292799\n",
            "10589        morgue  9.292799\n",
            "10572           mop  9.292799\n",
            "10573         mopar  9.292799\n",
            "10574        mopars  9.292799\n",
            "10575           mor  9.292799\n",
            "10576         morae  9.292799\n",
            "10582        morbid  9.292799\n",
            "10583      morbidly  9.292799\n",
            "10584  moreattitude  9.292799\n",
            "\n",
            "Top 10 words with lowest TF-IDF in the review:\n",
            "               Word       IDF\n",
            "8908           just  2.955973\n",
            "11441           one  2.925470\n",
            "8686          issue  2.915222\n",
            "13393          read  2.894204\n",
            "7032           good  2.849463\n",
            "7169          great  2.831331\n",
            "990        articles  2.798289\n",
            "9469           like  2.730355\n",
            "16077  subscription  2.677403\n",
            "9786       magazine  1.694901\n"
          ]
        }
      ]
    },
    {
      "cell_type": "code",
      "source": [
        "# Check the shape of tfidf_matrix_x_train\n",
        "num_samples_tfidf_matrix = tfidf_matrix_x_train.shape[0]\n",
        "\n",
        "# Check the number of rows in overall label\n",
        "num_samples_sentiment_class = result_df['overall_label'].shape[0]\n",
        "\n",
        "# Compare the number of samples\n",
        "if num_samples_tfidf_matrix == num_samples_sentiment_class:\n",
        "    print(\"Number of samples match between tfidf_matrix_x_train and overall_label.\")\n",
        "else:\n",
        "    print(\"Number of samples do not match between tfidf_matrix_x_train and overall_label.\")\n"
      ],
      "metadata": {
        "colab": {
          "base_uri": "https://localhost:8080/"
        },
        "id": "WLr3F1-c0Ol0",
        "outputId": "5417bb23-705f-4791-d569-7a70b3feaa83"
      },
      "execution_count": 59,
      "outputs": [
        {
          "output_type": "stream",
          "name": "stdout",
          "text": [
            "Number of samples do not match between tfidf_matrix_x_train and overall_label.\n"
          ]
        }
      ]
    },
    {
      "cell_type": "code",
      "source": [
        "print(\"Number of rows in result_df:\", len(result_df))\n",
        "print(\"Number of rows in overall_label:\", len(result_df['overall_label']))\n"
      ],
      "metadata": {
        "colab": {
          "base_uri": "https://localhost:8080/"
        },
        "id": "qsB8FyEcAxqP",
        "outputId": "b459c986-a79a-4627-9d75-32ea5e9cd4d2"
      },
      "execution_count": 60,
      "outputs": [
        {
          "output_type": "stream",
          "name": "stdout",
          "text": [
            "Number of rows in result_df: 7989\n",
            "Number of rows in overall_label: 7989\n"
          ]
        }
      ]
    },
    {
      "cell_type": "code",
      "source": [
        "print(tfidf_matrix_x_train.shape)\n",
        "print(result_df['overall_label'].shape)"
      ],
      "metadata": {
        "colab": {
          "base_uri": "https://localhost:8080/"
        },
        "id": "vsM-Dy5fOL8B",
        "outputId": "4b8c86ef-96bc-48d0-daa4-9d113f72ccd7"
      },
      "execution_count": 61,
      "outputs": [
        {
          "output_type": "stream",
          "name": "stdout",
          "text": [
            "(5991, 7134)\n",
            "(7989,)\n"
          ]
        }
      ]
    },
    {
      "cell_type": "code",
      "source": [
        "total_samples = len(result_df)\n",
        "\n",
        "num_train_samples = int(total_samples * 0.75)\n",
        "num_test_samples = total_samples - num_train_samples\n",
        "#calculate number of samples in split and label series\n",
        "num_samples_X_train = len(X_train)\n",
        "num_samples_X_test = len(X_test)\n",
        "num_samples_y_train = len(y_train)\n",
        "num_samples_y_test = len(y_test)\n",
        "#compare the calculated values\n",
        "print(\"Total samples:\", total_samples)\n",
        "print(\"Number of train samples:\", num_samples_X_train, \"Expected:\", num_train_samples)\n",
        "print(\"Number of test samples:\", num_samples_X_test, \"Expected:\", num_test_samples)\n",
        "print(\"Number of y_train samples:\", num_samples_y_train, \"Expected:\", num_train_samples)\n",
        "print(\"Number of y_test samples:\", num_samples_y_test, \"Expected:\", num_test_samples)\n"
      ],
      "metadata": {
        "colab": {
          "base_uri": "https://localhost:8080/"
        },
        "id": "DSOcWMM7PBoA",
        "outputId": "ffc9025e-4f49-4791-a4d5-5e2261ceec62"
      },
      "execution_count": 65,
      "outputs": [
        {
          "output_type": "stream",
          "name": "stdout",
          "text": [
            "Total samples: 7989\n",
            "Number of train samples: 5991 Expected: 5991\n",
            "Number of test samples: 1998 Expected: 1998\n",
            "Number of y_train samples: 5991 Expected: 5991\n",
            "Number of y_test samples: 1998 Expected: 1998\n"
          ]
        }
      ]
    },
    {
      "cell_type": "code",
      "source": [
        "X_train = X_train.values"
      ],
      "metadata": {
        "id": "FNkZyC1yVJ1W"
      },
      "execution_count": 72,
      "outputs": []
    },
    {
      "cell_type": "code",
      "source": [
        "print(type(X_train))\n"
      ],
      "metadata": {
        "colab": {
          "base_uri": "https://localhost:8080/"
        },
        "id": "h_SlvLBoUz-C",
        "outputId": "1f20e47c-8f3c-4da3-93ab-21c44ce95f8d"
      },
      "execution_count": 73,
      "outputs": [
        {
          "output_type": "stream",
          "name": "stdout",
          "text": [
            "<class 'numpy.ndarray'>\n"
          ]
        }
      ]
    },
    {
      "cell_type": "code",
      "source": [
        "X_test = X_test.values"
      ],
      "metadata": {
        "id": "-CS7j-CuVYfg"
      },
      "execution_count": 75,
      "outputs": []
    },
    {
      "cell_type": "code",
      "source": [
        "print(type(X_test))"
      ],
      "metadata": {
        "colab": {
          "base_uri": "https://localhost:8080/"
        },
        "id": "1oueDZVxVS3b",
        "outputId": "5eac2d97-aa4c-4092-b688-5d0ce77f8e44"
      },
      "execution_count": 84,
      "outputs": [
        {
          "output_type": "stream",
          "name": "stdout",
          "text": [
            "<class 'numpy.ndarray'>\n"
          ]
        }
      ]
    },
    {
      "cell_type": "code",
      "source": [
        "y_train = y_train.values"
      ],
      "metadata": {
        "colab": {
          "base_uri": "https://localhost:8080/",
          "height": 175
        },
        "id": "VLIKbjwpVrdd",
        "outputId": "45635877-ad90-49c7-efb7-198f6e4e9426"
      },
      "execution_count": 85,
      "outputs": [
        {
          "output_type": "error",
          "ename": "AttributeError",
          "evalue": "ignored",
          "traceback": [
            "\u001b[0;31m---------------------------------------------------------------------------\u001b[0m",
            "\u001b[0;31mAttributeError\u001b[0m                            Traceback (most recent call last)",
            "\u001b[0;32m<ipython-input-85-ff98c2832709>\u001b[0m in \u001b[0;36m<cell line: 1>\u001b[0;34m()\u001b[0m\n\u001b[0;32m----> 1\u001b[0;31m \u001b[0my_train\u001b[0m \u001b[0;34m=\u001b[0m \u001b[0my_train\u001b[0m\u001b[0;34m.\u001b[0m\u001b[0mvalues\u001b[0m\u001b[0;34m\u001b[0m\u001b[0;34m\u001b[0m\u001b[0m\n\u001b[0m",
            "\u001b[0;31mAttributeError\u001b[0m: 'numpy.ndarray' object has no attribute 'values'"
          ]
        }
      ]
    },
    {
      "cell_type": "code",
      "source": [
        "print(type(y_train))"
      ],
      "metadata": {
        "colab": {
          "base_uri": "https://localhost:8080/"
        },
        "id": "KhmFVtuCVlS0",
        "outputId": "016ab055-83a4-423c-bfd2-a2b7586aea76"
      },
      "execution_count": 80,
      "outputs": [
        {
          "output_type": "stream",
          "name": "stdout",
          "text": [
            "<class 'numpy.ndarray'>\n"
          ]
        }
      ]
    },
    {
      "cell_type": "markdown",
      "source": [
        "# Entrenamiento"
      ],
      "metadata": {
        "id": "IShxicyzQdpN"
      }
    },
    {
      "cell_type": "markdown",
      "source": [
        "No he podido analizar bien el modelo porque en la siguiente celda me da error que parece ser porque X_train no es un array, pero como ves arriba, lo es. Me he quedado aqui sin saber muy bien como arreglarlo, pero he intentado \"seguir\" y dejar los siguientes pasos como creo que tendrian que estar para evaluar el modelo. Espero que me puedas decir que he hecho mal."
      ],
      "metadata": {
        "id": "jhOvU3peZOGy"
      }
    },
    {
      "cell_type": "code",
      "source": [
        "import numpy as np\n",
        "from sklearn.linear_model import LogisticRegression\n",
        "from sklearn.metrics import accuracy_score\n",
        "\n",
        "# Convert X_train and X_test to NumPy arrays\n",
        "#X_train = X_train.to_numpy()\n",
        "#X_test = X_test.to_numpy()\n",
        "\n",
        "c_params = [0.01, 0.05, 0.25, 0.5, 1, 10, 100, 1000, 10000]\n",
        "\n",
        "train_acc = list()\n",
        "test_acc = list()\n",
        "for c in c_params:\n",
        "    lr = LogisticRegression(C=c, solver='lbfgs', max_iter=500)\n",
        "    lr.fit(X_train, y_train)\n",
        "\n",
        "    train_predict = lr.predict(X_train)\n",
        "    test_predict = lr.predict(X_test)\n",
        "\n",
        "    print(\"Accuracy for C={}: {}\".format(c, accuracy_score(y_test, test_predict)))\n",
        "\n",
        "    train_acc.append(accuracy_score(y_train, train_predict))\n",
        "    test_acc.append(accuracy_score(y_test, test_predict))\n"
      ],
      "metadata": {
        "colab": {
          "base_uri": "https://localhost:8080/",
          "height": 477
        },
        "id": "7Yq9XUxuYMZu",
        "outputId": "4728cd14-450e-4498-fb02-f0f4c9628c2a"
      },
      "execution_count": 90,
      "outputs": [
        {
          "output_type": "error",
          "ename": "ValueError",
          "evalue": "ignored",
          "traceback": [
            "\u001b[0;31m---------------------------------------------------------------------------\u001b[0m",
            "\u001b[0;31mTypeError\u001b[0m                                 Traceback (most recent call last)",
            "\u001b[0;31mTypeError\u001b[0m: float() argument must be a string or a real number, not 'list'",
            "\nThe above exception was the direct cause of the following exception:\n",
            "\u001b[0;31mValueError\u001b[0m                                Traceback (most recent call last)",
            "\u001b[0;32m<ipython-input-90-e21e6182ddfd>\u001b[0m in \u001b[0;36m<cell line: 13>\u001b[0;34m()\u001b[0m\n\u001b[1;32m     13\u001b[0m \u001b[0;32mfor\u001b[0m \u001b[0mc\u001b[0m \u001b[0;32min\u001b[0m \u001b[0mc_params\u001b[0m\u001b[0;34m:\u001b[0m\u001b[0;34m\u001b[0m\u001b[0;34m\u001b[0m\u001b[0m\n\u001b[1;32m     14\u001b[0m     \u001b[0mlr\u001b[0m \u001b[0;34m=\u001b[0m \u001b[0mLogisticRegression\u001b[0m\u001b[0;34m(\u001b[0m\u001b[0mC\u001b[0m\u001b[0;34m=\u001b[0m\u001b[0mc\u001b[0m\u001b[0;34m,\u001b[0m \u001b[0msolver\u001b[0m\u001b[0;34m=\u001b[0m\u001b[0;34m'lbfgs'\u001b[0m\u001b[0;34m,\u001b[0m \u001b[0mmax_iter\u001b[0m\u001b[0;34m=\u001b[0m\u001b[0;36m500\u001b[0m\u001b[0;34m)\u001b[0m\u001b[0;34m\u001b[0m\u001b[0;34m\u001b[0m\u001b[0m\n\u001b[0;32m---> 15\u001b[0;31m     \u001b[0mlr\u001b[0m\u001b[0;34m.\u001b[0m\u001b[0mfit\u001b[0m\u001b[0;34m(\u001b[0m\u001b[0mX_train\u001b[0m\u001b[0;34m,\u001b[0m \u001b[0my_train\u001b[0m\u001b[0;34m)\u001b[0m\u001b[0;34m\u001b[0m\u001b[0;34m\u001b[0m\u001b[0m\n\u001b[0m\u001b[1;32m     16\u001b[0m \u001b[0;34m\u001b[0m\u001b[0m\n\u001b[1;32m     17\u001b[0m     \u001b[0mtrain_predict\u001b[0m \u001b[0;34m=\u001b[0m \u001b[0mlr\u001b[0m\u001b[0;34m.\u001b[0m\u001b[0mpredict\u001b[0m\u001b[0;34m(\u001b[0m\u001b[0mX_train\u001b[0m\u001b[0;34m)\u001b[0m\u001b[0;34m\u001b[0m\u001b[0;34m\u001b[0m\u001b[0m\n",
            "\u001b[0;32m/usr/local/lib/python3.10/dist-packages/sklearn/linear_model/_logistic.py\u001b[0m in \u001b[0;36mfit\u001b[0;34m(self, X, y, sample_weight)\u001b[0m\n\u001b[1;32m   1194\u001b[0m             \u001b[0m_dtype\u001b[0m \u001b[0;34m=\u001b[0m \u001b[0;34m[\u001b[0m\u001b[0mnp\u001b[0m\u001b[0;34m.\u001b[0m\u001b[0mfloat64\u001b[0m\u001b[0;34m,\u001b[0m \u001b[0mnp\u001b[0m\u001b[0;34m.\u001b[0m\u001b[0mfloat32\u001b[0m\u001b[0;34m]\u001b[0m\u001b[0;34m\u001b[0m\u001b[0;34m\u001b[0m\u001b[0m\n\u001b[1;32m   1195\u001b[0m \u001b[0;34m\u001b[0m\u001b[0m\n\u001b[0;32m-> 1196\u001b[0;31m         X, y = self._validate_data(\n\u001b[0m\u001b[1;32m   1197\u001b[0m             \u001b[0mX\u001b[0m\u001b[0;34m,\u001b[0m\u001b[0;34m\u001b[0m\u001b[0;34m\u001b[0m\u001b[0m\n\u001b[1;32m   1198\u001b[0m             \u001b[0my\u001b[0m\u001b[0;34m,\u001b[0m\u001b[0;34m\u001b[0m\u001b[0;34m\u001b[0m\u001b[0m\n",
            "\u001b[0;32m/usr/local/lib/python3.10/dist-packages/sklearn/base.py\u001b[0m in \u001b[0;36m_validate_data\u001b[0;34m(self, X, y, reset, validate_separately, **check_params)\u001b[0m\n\u001b[1;32m    582\u001b[0m                 \u001b[0my\u001b[0m \u001b[0;34m=\u001b[0m \u001b[0mcheck_array\u001b[0m\u001b[0;34m(\u001b[0m\u001b[0my\u001b[0m\u001b[0;34m,\u001b[0m \u001b[0minput_name\u001b[0m\u001b[0;34m=\u001b[0m\u001b[0;34m\"y\"\u001b[0m\u001b[0;34m,\u001b[0m \u001b[0;34m**\u001b[0m\u001b[0mcheck_y_params\u001b[0m\u001b[0;34m)\u001b[0m\u001b[0;34m\u001b[0m\u001b[0;34m\u001b[0m\u001b[0m\n\u001b[1;32m    583\u001b[0m             \u001b[0;32melse\u001b[0m\u001b[0;34m:\u001b[0m\u001b[0;34m\u001b[0m\u001b[0;34m\u001b[0m\u001b[0m\n\u001b[0;32m--> 584\u001b[0;31m                 \u001b[0mX\u001b[0m\u001b[0;34m,\u001b[0m \u001b[0my\u001b[0m \u001b[0;34m=\u001b[0m \u001b[0mcheck_X_y\u001b[0m\u001b[0;34m(\u001b[0m\u001b[0mX\u001b[0m\u001b[0;34m,\u001b[0m \u001b[0my\u001b[0m\u001b[0;34m,\u001b[0m \u001b[0;34m**\u001b[0m\u001b[0mcheck_params\u001b[0m\u001b[0;34m)\u001b[0m\u001b[0;34m\u001b[0m\u001b[0;34m\u001b[0m\u001b[0m\n\u001b[0m\u001b[1;32m    585\u001b[0m             \u001b[0mout\u001b[0m \u001b[0;34m=\u001b[0m \u001b[0mX\u001b[0m\u001b[0;34m,\u001b[0m \u001b[0my\u001b[0m\u001b[0;34m\u001b[0m\u001b[0;34m\u001b[0m\u001b[0m\n\u001b[1;32m    586\u001b[0m \u001b[0;34m\u001b[0m\u001b[0m\n",
            "\u001b[0;32m/usr/local/lib/python3.10/dist-packages/sklearn/utils/validation.py\u001b[0m in \u001b[0;36mcheck_X_y\u001b[0;34m(X, y, accept_sparse, accept_large_sparse, dtype, order, copy, force_all_finite, ensure_2d, allow_nd, multi_output, ensure_min_samples, ensure_min_features, y_numeric, estimator)\u001b[0m\n\u001b[1;32m   1104\u001b[0m         )\n\u001b[1;32m   1105\u001b[0m \u001b[0;34m\u001b[0m\u001b[0m\n\u001b[0;32m-> 1106\u001b[0;31m     X = check_array(\n\u001b[0m\u001b[1;32m   1107\u001b[0m         \u001b[0mX\u001b[0m\u001b[0;34m,\u001b[0m\u001b[0;34m\u001b[0m\u001b[0;34m\u001b[0m\u001b[0m\n\u001b[1;32m   1108\u001b[0m         \u001b[0maccept_sparse\u001b[0m\u001b[0;34m=\u001b[0m\u001b[0maccept_sparse\u001b[0m\u001b[0;34m,\u001b[0m\u001b[0;34m\u001b[0m\u001b[0;34m\u001b[0m\u001b[0m\n",
            "\u001b[0;32m/usr/local/lib/python3.10/dist-packages/sklearn/utils/validation.py\u001b[0m in \u001b[0;36mcheck_array\u001b[0;34m(array, accept_sparse, accept_large_sparse, dtype, order, copy, force_all_finite, ensure_2d, allow_nd, ensure_min_samples, ensure_min_features, estimator, input_name)\u001b[0m\n\u001b[1;32m    877\u001b[0m                     \u001b[0marray\u001b[0m \u001b[0;34m=\u001b[0m \u001b[0mxp\u001b[0m\u001b[0;34m.\u001b[0m\u001b[0mastype\u001b[0m\u001b[0;34m(\u001b[0m\u001b[0marray\u001b[0m\u001b[0;34m,\u001b[0m \u001b[0mdtype\u001b[0m\u001b[0;34m,\u001b[0m \u001b[0mcopy\u001b[0m\u001b[0;34m=\u001b[0m\u001b[0;32mFalse\u001b[0m\u001b[0;34m)\u001b[0m\u001b[0;34m\u001b[0m\u001b[0;34m\u001b[0m\u001b[0m\n\u001b[1;32m    878\u001b[0m                 \u001b[0;32melse\u001b[0m\u001b[0;34m:\u001b[0m\u001b[0;34m\u001b[0m\u001b[0;34m\u001b[0m\u001b[0m\n\u001b[0;32m--> 879\u001b[0;31m                     \u001b[0marray\u001b[0m \u001b[0;34m=\u001b[0m \u001b[0m_asarray_with_order\u001b[0m\u001b[0;34m(\u001b[0m\u001b[0marray\u001b[0m\u001b[0;34m,\u001b[0m \u001b[0morder\u001b[0m\u001b[0;34m=\u001b[0m\u001b[0morder\u001b[0m\u001b[0;34m,\u001b[0m \u001b[0mdtype\u001b[0m\u001b[0;34m=\u001b[0m\u001b[0mdtype\u001b[0m\u001b[0;34m,\u001b[0m \u001b[0mxp\u001b[0m\u001b[0;34m=\u001b[0m\u001b[0mxp\u001b[0m\u001b[0;34m)\u001b[0m\u001b[0;34m\u001b[0m\u001b[0;34m\u001b[0m\u001b[0m\n\u001b[0m\u001b[1;32m    880\u001b[0m             \u001b[0;32mexcept\u001b[0m \u001b[0mComplexWarning\u001b[0m \u001b[0;32mas\u001b[0m \u001b[0mcomplex_warning\u001b[0m\u001b[0;34m:\u001b[0m\u001b[0;34m\u001b[0m\u001b[0;34m\u001b[0m\u001b[0m\n\u001b[1;32m    881\u001b[0m                 raise ValueError(\n",
            "\u001b[0;32m/usr/local/lib/python3.10/dist-packages/sklearn/utils/_array_api.py\u001b[0m in \u001b[0;36m_asarray_with_order\u001b[0;34m(array, dtype, order, copy, xp)\u001b[0m\n\u001b[1;32m    183\u001b[0m     \u001b[0;32mif\u001b[0m \u001b[0mxp\u001b[0m\u001b[0;34m.\u001b[0m\u001b[0m__name__\u001b[0m \u001b[0;32min\u001b[0m \u001b[0;34m{\u001b[0m\u001b[0;34m\"numpy\"\u001b[0m\u001b[0;34m,\u001b[0m \u001b[0;34m\"numpy.array_api\"\u001b[0m\u001b[0;34m}\u001b[0m\u001b[0;34m:\u001b[0m\u001b[0;34m\u001b[0m\u001b[0;34m\u001b[0m\u001b[0m\n\u001b[1;32m    184\u001b[0m         \u001b[0;31m# Use NumPy API to support order\u001b[0m\u001b[0;34m\u001b[0m\u001b[0;34m\u001b[0m\u001b[0m\n\u001b[0;32m--> 185\u001b[0;31m         \u001b[0marray\u001b[0m \u001b[0;34m=\u001b[0m \u001b[0mnumpy\u001b[0m\u001b[0;34m.\u001b[0m\u001b[0masarray\u001b[0m\u001b[0;34m(\u001b[0m\u001b[0marray\u001b[0m\u001b[0;34m,\u001b[0m \u001b[0morder\u001b[0m\u001b[0;34m=\u001b[0m\u001b[0morder\u001b[0m\u001b[0;34m,\u001b[0m \u001b[0mdtype\u001b[0m\u001b[0;34m=\u001b[0m\u001b[0mdtype\u001b[0m\u001b[0;34m)\u001b[0m\u001b[0;34m\u001b[0m\u001b[0;34m\u001b[0m\u001b[0m\n\u001b[0m\u001b[1;32m    186\u001b[0m         \u001b[0;32mreturn\u001b[0m \u001b[0mxp\u001b[0m\u001b[0;34m.\u001b[0m\u001b[0masarray\u001b[0m\u001b[0;34m(\u001b[0m\u001b[0marray\u001b[0m\u001b[0;34m,\u001b[0m \u001b[0mcopy\u001b[0m\u001b[0;34m=\u001b[0m\u001b[0mcopy\u001b[0m\u001b[0;34m)\u001b[0m\u001b[0;34m\u001b[0m\u001b[0;34m\u001b[0m\u001b[0m\n\u001b[1;32m    187\u001b[0m     \u001b[0;32melse\u001b[0m\u001b[0;34m:\u001b[0m\u001b[0;34m\u001b[0m\u001b[0;34m\u001b[0m\u001b[0m\n",
            "\u001b[0;31mValueError\u001b[0m: setting an array element with a sequence."
          ]
        }
      ]
    },
    {
      "cell_type": "markdown",
      "source": [],
      "metadata": {
        "id": "mSYck4HGZMA3"
      }
    },
    {
      "cell_type": "code",
      "source": [
        "#confusion matrix\n",
        "print('Confussion matrix:\\n{}'.format(confusion_matrix(y_test, test_predict)))\n",
        "print('\\nClassification report:\\n{}'.format(classification_report(y_test, test_predict)))\n",
        "print('Accuracy score:{}'.format(accuracy_score(y_test, test_predict))"
      ],
      "metadata": {
        "id": "WipjzNbqWHEC"
      },
      "execution_count": null,
      "outputs": []
    },
    {
      "cell_type": "code",
      "source": [
        "p, r, thresholds = precision_recall_curve(y_test, test_predict)"
      ],
      "metadata": {
        "id": "9FiOgHN_XQoe"
      },
      "execution_count": null,
      "outputs": []
    },
    {
      "cell_type": "code",
      "source": [
        "def plot_precision_recall_vs_threshold(precisions, recalls, thresholds):\n",
        "    plt.figure(figsize=(8, 8))\n",
        "    plt.title(\"Precision and Recall Scores as a function of the decision threshold\")\n",
        "    plt.plot(thresholds, precisions[:-1], \"b--\", label=\"Precision\")\n",
        "    plt.plot(thresholds, recalls[:-1], \"g-\", label=\"Recall\")\n",
        "    plt.ylabel(\"Score\")\n",
        "    plt.xlabel(\"Decision Threshold\")\n",
        "    plt.legend(loc='best')"
      ],
      "metadata": {
        "id": "85tAr-zyXZhC"
      },
      "execution_count": null,
      "outputs": []
    },
    {
      "cell_type": "markdown",
      "source": [
        "# Predict"
      ],
      "metadata": {
        "id": "2BlPEZKVXdh5"
      }
    },
    {
      "cell_type": "code",
      "source": [
        "def predict_review_sentiment(review_index, model):\n",
        "    print('Actual sentiment: {}'.format(df_result.iloc[review_index]['overall_label']))\n",
        "    r = df_result.iloc[review_index]['review']\n",
        "    print('Prediction: {}'.format(lr.predict(cv.transform([r]))"
      ],
      "metadata": {
        "id": "DsB2_G2oXhxY"
      },
      "execution_count": null,
      "outputs": []
    },
    {
      "cell_type": "code",
      "source": [
        "for i in random.sample(range(0, len(df)), 5):\n",
        "    print('\\nReview no. {}'.format(i))\n",
        "    predict_review_sentiment(i, lr)"
      ],
      "metadata": {
        "id": "jSTJz-T7XpqM"
      },
      "execution_count": null,
      "outputs": []
    }
  ],
  "metadata": {
    "colab": {
      "provenance": []
    },
    "kernelspec": {
      "display_name": "Python 3",
      "name": "python3"
    },
    "language_info": {
      "name": "python"
    }
  },
  "nbformat": 4,
  "nbformat_minor": 0
}